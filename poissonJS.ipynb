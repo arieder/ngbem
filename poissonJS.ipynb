{
 "cells": [
  {
   "cell_type": "markdown",
   "metadata": {},
   "source": [
    "# FEM-BEM coupling "
   ]
  },
  {
   "cell_type": "code",
   "execution_count": null,
   "metadata": {},
   "outputs": [],
   "source": [
    "from netgen.csg import *\n",
    "from ngsolve import *\n",
    "from ngsolve.webgui import Draw"
   ]
  },
  {
   "cell_type": "code",
   "execution_count": null,
   "metadata": {
    "scrolled": true
   },
   "outputs": [],
   "source": [
    "ball = Sphere(Pnt(0,0,0), 1).bc(\"fembem\")\n",
    "elec = Cylinder(Pnt(-0.5,0,0), Pnt(0.5,0,0),0.6) * \\\n",
    "    (OrthoBrick(Pnt(-0.3,-1,-1), Pnt(-0.2,1,1))+OrthoBrick(Pnt(0.2,-1,-1), Pnt(0.3,1,1)))\n",
    "elec.bc(\"electrode\")\n",
    "ball = ball - elec\n",
    "geo = CSGeometry()\n",
    "geo.Add(ball)\n",
    "mesh = Mesh(geo.GenerateMesh(maxh=0.2))\n",
    "\n",
    "Draw (mesh, clipping={ \"pnt\" : (0,0,0) })"
   ]
  },
  {
   "cell_type": "code",
   "execution_count": null,
   "metadata": {},
   "outputs": [],
   "source": [
    "order=1\n",
    "V = H1(mesh,order=order, dirichlet=\"electrode\")\n",
    "Q = SurfaceL2(mesh, order=order-1)\n",
    "X = V*Q\n",
    "(u,lam), (v,mu) = X.TnT()"
   ]
  },
  {
   "cell_type": "code",
   "execution_count": null,
   "metadata": {},
   "outputs": [],
   "source": [
    "f = LinearForm(X)\n",
    "# f += v(0.7,0,0)  # point source\n",
    "f.Assemble()\n",
    "\n",
    "a = BilinearForm(grad(u)*grad(v)*dx - lam*v*ds).Assemble()\n",
    "b = BilinearForm(grad(u)*grad(v)*dx+u*v*dx + lam*mu*ds).Assemble()\n",
    "inv = b.mat.Inverse(inverse=\"sparsecholesky\", freedofs=X.FreeDofs())\n",
    "\n",
    "gf = GridFunction(X)\n",
    "# gf.vec.data = inv * f.vec\n",
    "gfu, gflam = gf.components\n",
    "gfu.Set(IfPos(x, 1, -1), BND)"
   ]
  },
  {
   "cell_type": "code",
   "execution_count": null,
   "metadata": {
    "scrolled": false
   },
   "outputs": [],
   "source": [
    "Draw (gfu, clipping={ \"pnt\" : (0,0,0) })"
   ]
  },
  {
   "cell_type": "markdown",
   "metadata": {},
   "source": [
    "Next, we assemble the corresponding boundary integral operators using Bempp-cl and ngbem"
   ]
  },
  {
   "cell_type": "code",
   "execution_count": null,
   "metadata": {},
   "outputs": [],
   "source": [
    "import ngbem\n",
    "import bempp.api;\n",
    "import numpy as np;\n",
    "import scipy;\n",
    "import bempp.core\n",
    "\n",
    "# bempp.api.DEFAULT_DEVICE_INTERFACE=\"opencl\"\n",
    "bempp.api.DEFAULT_DEVICE_INTERFACE=\"numba\""
   ]
  },
  {
   "cell_type": "code",
   "execution_count": null,
   "metadata": {},
   "outputs": [],
   "source": [
    "class NGSOperator(BaseMatrix):\n",
    "    def __init__(self, mat):\n",
    "        BaseMatrix.__init__(self)\n",
    "        self.mat = mat\n",
    "    def IsComplex(self):\n",
    "        return False\n",
    "    def Height(self):\n",
    "        return self.mat.shape[0]\n",
    "    def Width(self):\n",
    "        return self.mat.shape[1]\n",
    "    def CreateRowVector(self):\n",
    "        return BaseVector(self.Width())\n",
    "    def CreateColVector(self):\n",
    "        return BaseVector(self.Height())\n",
    "    def Mult(self,x,y):\n",
    "        # y.FV().NumPy()[:] = self.mat * x   \n",
    "        y.data = self.mat * x     "
   ]
  },
  {
   "cell_type": "markdown",
   "metadata": {},
   "source": [
    "NGBem implements the trace operator between (in our case) $H^1(\\Omega)$ and $H^{1/2}(\\partial \\Omega)$. It\n",
    "also provides the mapping between the NGSolve SurfaceL2 and the Bempp-cl space of piecewise constant functions.\n",
    "In order to make sure that the grids and spaces match, H1_trace also returns a corresponding Bempp-cl function space. (The second parameter makes sure that we only generate the Bempp grid once).\n",
    "\n",
    "Note that, since we are using piecewise constant functions for $Q$, bnd_trace_matrix will be the identity"
   ]
  },
  {
   "cell_type": "code",
   "execution_count": null,
   "metadata": {},
   "outputs": [],
   "source": [
    "fembem = mesh.Boundaries(\"fembem\")\n",
    "[bem_c,trace_matrix]=ngbem.ng_to_bempp_trace(V, None, fembem);\n",
    "[bem_dc, bnd_trace_matrix]=ngbem.ng_to_bempp_trace(Q,bem_c.grid, fembem);"
   ]
  },
  {
   "cell_type": "markdown",
   "metadata": {},
   "source": [
    "# We will need the following operators:\n",
    "the single layer operator $V$,\n",
    "the double layer operator $K$ and a mass matrix $M$"
   ]
  },
  {
   "cell_type": "code",
   "execution_count": null,
   "metadata": {},
   "outputs": [],
   "source": [
    "##set up the bem\n",
    "bempp.api.VECTORIZATION_MODE = \"novec\" \n",
    "sl=bempp.api.operators.boundary.laplace.single_layer(bem_dc,bem_c,bem_dc) # ,assembler=\"fmm\", device_interface=\"opencl\")\n",
    "dl=bempp.api.operators.boundary.laplace.double_layer(bem_c,bem_c,bem_dc)#,assembler=\"fmm\", device_interface=\"opencl\")\n",
    "id_op=bempp.api.operators.boundary.sparse.identity(bem_dc,bem_dc,bem_c)\n",
    "id_op2=bempp.api.operators.boundary.sparse.identity(bem_c,bem_c,bem_dc)"
   ]
  },
  {
   "cell_type": "code",
   "execution_count": null,
   "metadata": {},
   "outputs": [],
   "source": [
    "embu, emblam = X.embeddings"
   ]
  },
  {
   "cell_type": "code",
   "execution_count": null,
   "metadata": {},
   "outputs": [],
   "source": [
    "bnd_op1=0.5*id_op2 - dl\n",
    "ngs_bnd1= NGSOperator(bnd_trace_matrix.T) @ NGSOperator(bnd_op1.weak_form()) @ NGSOperator(trace_matrix)\n",
    "ngs_bnd1= emblam @ ngs_bnd1 @ embu.T"
   ]
  },
  {
   "cell_type": "markdown",
   "metadata": {},
   "source": [
    "We set up the following block system:\n",
    "$\\begin{pmatrix}\n",
    "A & M \\\\\n",
    "\\frac{1}{2} M - K & V\n",
    "\\end{pmatrix} \n",
    "\\begin{pmatrix}\n",
    "u \\\\ \\lambda\n",
    "\\end{pmatrix}= \\begin{pmatrix} f \\\\ 0 \\end{pmatrix}$"
   ]
  },
  {
   "cell_type": "code",
   "execution_count": null,
   "metadata": {},
   "outputs": [],
   "source": []
  },
  {
   "cell_type": "code",
   "execution_count": null,
   "metadata": {},
   "outputs": [],
   "source": [
    "ngs_sl =  NGSOperator(bnd_trace_matrix.T)  @ NGSOperator(sl.weak_form()) @  NGSOperator(bnd_trace_matrix) \n",
    "ngs_sl = emblam @ ngs_sl @ emblam.T   # 1,1 block"
   ]
  },
  {
   "cell_type": "code",
   "execution_count": null,
   "metadata": {},
   "outputs": [],
   "source": [
    "# gfu=GridFunction(X)\n",
    "# print(a.mat.width)"
   ]
  },
  {
   "cell_type": "code",
   "execution_count": null,
   "metadata": {},
   "outputs": [],
   "source": [
    "lhs=a.mat  + ngs_sl+ ngs_bnd1\n",
    "# print(lhs.height,f.vec.size,gfu.vec.size)"
   ]
  },
  {
   "cell_type": "code",
   "execution_count": null,
   "metadata": {},
   "outputs": [],
   "source": [
    "ngs_sl.width"
   ]
  },
  {
   "cell_type": "code",
   "execution_count": null,
   "metadata": {},
   "outputs": [],
   "source": [
    "res = f.vec.CreateVector()\n",
    "res.data = f.vec - lhs*gf.vec\n",
    "w = gf.vec.CreateVector()\n",
    "w[:] = 0\n",
    "solvers.GMRes(A=lhs, b=res, pre=inv, tol=1e-6, printrates=True, x=w,freedofs=X.FreeDofs(),maxsteps=400)\n",
    "gf.vec.data += w"
   ]
  },
  {
   "cell_type": "code",
   "execution_count": null,
   "metadata": {
    "scrolled": true
   },
   "outputs": [],
   "source": [
    "gfu, gflam = gf.components\n",
    "Draw(gfu, clipping = { \"pnt\" : (0,0,0) })"
   ]
  },
  {
   "cell_type": "markdown",
   "metadata": {},
   "source": [
    "The product space can provide embedding matrices for the individual components:\n",
    "\n",
    "$$\n",
    "E_u = \\left( \\begin{array}{c} I \\\\ 0 \\end{array} \\right)\n",
    "\\qquad\n",
    "E_\\lambda = \\left( \\begin{array}{c} 0 \\\\ I \\end{array} \\right)\n",
    "$$\n"
   ]
  },
  {
   "cell_type": "code",
   "execution_count": null,
   "metadata": {},
   "outputs": [],
   "source": []
  },
  {
   "cell_type": "code",
   "execution_count": null,
   "metadata": {},
   "outputs": [],
   "source": []
  },
  {
   "cell_type": "code",
   "execution_count": null,
   "metadata": {},
   "outputs": [],
   "source": []
  }
 ],
 "metadata": {
  "kernelspec": {
   "display_name": "Python 3",
   "language": "python",
   "name": "python3"
  },
  "language_info": {
   "codemirror_mode": {
    "name": "ipython",
    "version": 3
   },
   "file_extension": ".py",
   "mimetype": "text/x-python",
   "name": "python",
   "nbconvert_exporter": "python",
   "pygments_lexer": "ipython3",
   "version": "3.8.5"
  }
 },
 "nbformat": 4,
 "nbformat_minor": 2
}
