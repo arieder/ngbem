{
 "cells": [
  {
   "cell_type": "markdown",
   "metadata": {},
   "source": [
    "# FEM-BEM coupling "
   ]
  },
  {
   "cell_type": "code",
   "execution_count": null,
   "metadata": {},
   "outputs": [],
   "source": [
    "from netgen.csg import *\n",
    "from ngsolve import *\n",
    "from ngsolve.webgui import Draw\n",
    "from time import time"
   ]
  },
  {
   "cell_type": "code",
   "execution_count": null,
   "metadata": {
    "scrolled": false
   },
   "outputs": [],
   "source": [
    "ball = Sphere(Pnt(0,0,0), 1).bc(\"fembem\")\n",
    "elec = Cylinder(Pnt(-0.5,0,0), Pnt(0.5,0,0),0.6).maxh(0.05) * \\\n",
    "    (OrthoBrick(Pnt(-0.3,-1,-1), Pnt(-0.2,1,1))+OrthoBrick(Pnt(0.2,-1,-1), Pnt(0.3,1,1)))\n",
    "elec.bc(\"electrode\")\n",
    "geo = CSGeometry()\n",
    "geo.Add(ball-elec)\n",
    "mesh = Mesh(geo.GenerateMesh(maxh=0.25))\n",
    "mesh.Curve(2)\n",
    "Draw (mesh, clipping={\"pnt\":(0,0,0)})"
   ]
  },
  {
   "cell_type": "markdown",
   "metadata": {},
   "source": [
    "second order space for FEM, but only first order space for BEM:"
   ]
  },
  {
   "cell_type": "code",
   "execution_count": null,
   "metadata": {},
   "outputs": [],
   "source": [
    "V = H1(mesh,order=2, dirichlet=\"electrode\")\n",
    "Vt = H1(mesh, order=1, definedon=mesh.Boundaries(\"fembem\"))\n",
    "Q = SurfaceL2(mesh, order=0, definedon=mesh.Boundaries(\"fembem\"))\n",
    "X = V*Vt*Q\n",
    "(u,ut,lam), (v,vt,mu) = X.TnT()"
   ]
  },
  {
   "cell_type": "code",
   "execution_count": null,
   "metadata": {},
   "outputs": [],
   "source": [
    "f = LinearForm(X)\n",
    "# f += v(0.7,0,0)  # point source\n",
    "f.Assemble()\n",
    "\n",
    "dsfb = ds(definedon=\"fembem\")\n",
    "a = BilinearForm(grad(u)*grad(v)*dx - lam*v*dsfb + (ut-u)*vt*dsfb).Assemble()\n",
    "b = BilinearForm(grad(u)*grad(v)*dx+u*v*dx + ut*vt*dsfb + lam*mu*dsfb).Assemble()\n",
    "inv = b.mat.Inverse(inverse=\"sparsecholesky\", freedofs=X.FreeDofs())\n",
    "\n",
    "gf = GridFunction(X)\n",
    "gfu, gfut, gflam = gf.components\n",
    "gfu.Set(IfPos(x, 1, -1), BND)  # set Dirichlet bnd values"
   ]
  },
  {
   "cell_type": "code",
   "execution_count": null,
   "metadata": {
    "scrolled": true
   },
   "outputs": [],
   "source": [
    "# Draw (gfu, clipping={ \"pnt\" : (0,0,0) })"
   ]
  },
  {
   "cell_type": "markdown",
   "metadata": {},
   "source": [
    "Next, we assemble the corresponding boundary integral operators using Bempp-cl and ngbem"
   ]
  },
  {
   "cell_type": "code",
   "execution_count": null,
   "metadata": {},
   "outputs": [],
   "source": [
    "import ngbem\n",
    "import bempp.api;\n",
    "import numpy as np;\n",
    "import scipy;\n",
    "import bempp.core\n",
    "\n",
    "# bempp.api.DEFAULT_DEVICE_INTERFACE=\"opencl\"\n",
    "bempp.api.DEFAULT_DEVICE_INTERFACE=\"numba\""
   ]
  },
  {
   "cell_type": "markdown",
   "metadata": {},
   "source": [
    "NGBem implements the trace operator between (in our case) $H^1(\\Omega)$ and $H^{1/2}(\\partial \\Omega)$. It\n",
    "also provides the mapping between the NGSolve SurfaceL2 and the Bempp-cl space of piecewise constant functions.\n",
    "In order to make sure that the grids and spaces match, H1_trace also returns a corresponding Bempp-cl function space. (The second parameter makes sure that we only generate the Bempp grid once).\n",
    "\n",
    "Note that, since we are using piecewise constant functions for $Q$, bnd_trace_matrix will be the identity"
   ]
  },
  {
   "cell_type": "code",
   "execution_count": null,
   "metadata": {
    "scrolled": true
   },
   "outputs": [],
   "source": [
    "fembem = mesh.Boundaries(\"fembem\")\n",
    "grid = ngbem.bempp_grid_from_ng(mesh, fembem)\n",
    "bem_c, trace_matrix = ngbem.ng_to_bempp_trace(Vt, grid, fembem);\n",
    "bem_dc, bnd_trace_matrix = ngbem.ng_to_bempp_trace(Q,grid, fembem);"
   ]
  },
  {
   "cell_type": "markdown",
   "metadata": {},
   "source": [
    "# We will need the following operators:\n",
    "the single layer operator $V$,\n",
    "the double layer operator $K$ and a mass matrix $M$"
   ]
  },
  {
   "cell_type": "code",
   "execution_count": null,
   "metadata": {},
   "outputs": [],
   "source": [
    "##set up the bem\n",
    "bempp.api.VECTORIZATION_MODE = \"novec\" \n",
    "laplace = bempp.api.operators.boundary.laplace\n",
    "sl=laplace.single_layer(bem_dc,bem_c,bem_dc) # ,assembler=\"fmm\", device_interface=\"opencl\")\n",
    "dl=laplace.double_layer(bem_c,bem_c,bem_dc)  #,assembler=\"fmm\", device_interface=\"opencl\")\n",
    "\n",
    "identity = bempp.api.operators.boundary.sparse.identity\n",
    "id_op=identity(bem_dc,bem_dc,bem_c)\n",
    "id_op2=identity(bem_c,bem_c,bem_dc)"
   ]
  },
  {
   "cell_type": "code",
   "execution_count": null,
   "metadata": {},
   "outputs": [],
   "source": [
    "embu, embut, emblam = X.embeddings"
   ]
  },
  {
   "cell_type": "code",
   "execution_count": null,
   "metadata": {},
   "outputs": [],
   "source": [
    "bnd_op1=0.5*id_op2 - dl\n",
    "ngs_bnd1= BaseMatrix(bnd_trace_matrix.T) @ BaseMatrix(bnd_op1.weak_form()) @ BaseMatrix(trace_matrix)\n",
    "ngs_bnd1= emblam @ ngs_bnd1 @ embut.T"
   ]
  },
  {
   "cell_type": "markdown",
   "metadata": {},
   "source": [
    "We set up the following block system:\n",
    "$\\begin{pmatrix}\n",
    "A & M \\\\\n",
    "\\frac{1}{2} M - K & V\n",
    "\\end{pmatrix} \n",
    "\\begin{pmatrix}\n",
    "u \\\\ \\lambda\n",
    "\\end{pmatrix}= \\begin{pmatrix} f \\\\ 0 \\end{pmatrix}$"
   ]
  },
  {
   "cell_type": "code",
   "execution_count": null,
   "metadata": {},
   "outputs": [],
   "source": [
    "ngs_sl = BaseMatrix(bnd_trace_matrix.T) @ BaseMatrix(sl.weak_form()) @ BaseMatrix(bnd_trace_matrix) \n",
    "ngs_sl = emblam @ ngs_sl @ emblam.T   # 1,1 block"
   ]
  },
  {
   "cell_type": "code",
   "execution_count": null,
   "metadata": {},
   "outputs": [],
   "source": [
    "lhs=a.mat + ngs_sl + ngs_bnd1"
   ]
  },
  {
   "cell_type": "code",
   "execution_count": null,
   "metadata": {
    "scrolled": false
   },
   "outputs": [],
   "source": [
    "solvers.GMRes(A=lhs, b=f.vec, pre=inv, tol=1e-6, printrates=True, x=gf.vec,freedofs=X.FreeDofs(),maxsteps=400)\n",
    "pass"
   ]
  },
  {
   "cell_type": "code",
   "execution_count": null,
   "metadata": {
    "scrolled": false
   },
   "outputs": [],
   "source": [
    "gfu, gfut, gflam = gf.components\n",
    "Draw(gfu, clipping = { \"pnt\" : (0,0,0) })\n",
    "Draw(gflam, draw_vol=False)"
   ]
  },
  {
   "cell_type": "code",
   "execution_count": null,
   "metadata": {},
   "outputs": [],
   "source": []
  }
 ],
 "metadata": {
  "kernelspec": {
   "display_name": "Python 3",
   "language": "python",
   "name": "python3"
  },
  "language_info": {
   "codemirror_mode": {
    "name": "ipython",
    "version": 3
   },
   "file_extension": ".py",
   "mimetype": "text/x-python",
   "name": "python",
   "nbconvert_exporter": "python",
   "pygments_lexer": "ipython3",
   "version": "3.8.5"
  }
 },
 "nbformat": 4,
 "nbformat_minor": 2
}
