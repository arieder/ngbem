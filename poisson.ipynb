{
 "cells": [
  {
   "cell_type": "markdown",
   "metadata": {},
   "source": [
    "# FEM-BEM coupling "
   ]
  },
  {
   "cell_type": "code",
   "execution_count": null,
   "metadata": {},
   "outputs": [],
   "source": [
    "from netgen.csg import *\n",
    "from ngsolve import *\n",
    "from ngsolve.webgui import Draw"
   ]
  },
  {
   "cell_type": "code",
   "execution_count": null,
   "metadata": {},
   "outputs": [],
   "source": [
    "ball = Sphere(Pnt(0,0,0), 1)\n",
    "geo = CSGeometry()\n",
    "geo.Add(ball)\n",
    "mesh = Mesh(geo.GenerateMesh(maxh=0.2))\n",
    "\n",
    "Draw (mesh)"
   ]
  },
  {
   "cell_type": "code",
   "execution_count": null,
   "metadata": {},
   "outputs": [],
   "source": [
    "order=1\n",
    "V = H1(mesh,order=order)\n",
    "Q = SurfaceL2(mesh, order=order-1)\n",
    "X = V*Q\n",
    "(u,lam), (v,mu) = X.TnT()"
   ]
  },
  {
   "cell_type": "code",
   "execution_count": null,
   "metadata": {},
   "outputs": [],
   "source": [
    "f = LinearForm(X)\n",
    "f += v(0,0,0)  # point source\n",
    "f.Assemble()\n",
    "\n",
    "a = BilinearForm(grad(u)*grad(v)*dx).Assemble()\n",
    "b = BilinearForm(grad(u)*grad(v)*dx+u*v*dx + lam*mu*ds).Assemble()\n",
    "inv = b.mat.Inverse()\n",
    "\n",
    "gf = GridFunction(X)\n",
    "gf.vec.data = inv * f.vec\n",
    "gfu, gflam = gf.components"
   ]
  },
  {
   "cell_type": "code",
   "execution_count": null,
   "metadata": {
    "scrolled": true
   },
   "outputs": [],
   "source": [
    "Draw (gfu)"
   ]
  },
  {
   "cell_type": "markdown",
   "metadata": {},
   "source": [
    "some stuff copied from example.py"
   ]
  },
  {
   "cell_type": "code",
   "execution_count": null,
   "metadata": {},
   "outputs": [],
   "source": [
    "import ngbem\n",
    "import bempp.api;\n",
    "import numpy as np;\n",
    "import scipy;\n",
    "import bempp.core\n",
    "\n",
    "# bempp.api.DEFAULT_DEVICE_INTERFACE=\"opencl\"\n",
    "bempp.api.DEFAULT_DEVICE_INTERFACE=\"numba\""
   ]
  },
  {
   "cell_type": "code",
   "execution_count": null,
   "metadata": {},
   "outputs": [],
   "source": [
    "[bem_c,trace_matrix]=ngbem.H1_trace(V);\n",
    "bem_dc=bempp.api.function_space(bem_c.grid,'DP',order-1);"
   ]
  },
  {
   "cell_type": "code",
   "execution_count": null,
   "metadata": {},
   "outputs": [],
   "source": [
    "from bempp.api.assembly.blocked_operator import BlockedDiscreteOperator\n",
    "from bempp.api.assembly.discrete_boundary_operator import InverseSparseDiscreteBoundaryOperator\n",
    "##set up the bem\n",
    "bempp.api.VECTORIZATION_MODE = \"novec\" \n",
    "sl=bempp.api.operators.boundary.laplace.single_layer(bem_dc,bem_c,bem_dc) # ,assembler=\"fmm\", device_interface=\"opencl\")\n",
    "dl=bempp.api.operators.boundary.laplace.double_layer(bem_c,bem_c,bem_dc)#,assembler=\"fmm\", device_interface=\"opencl\")\n",
    "id_op=bempp.api.operators.boundary.sparse.identity(bem_dc,bem_dc,bem_c)\n",
    "id_op2=bempp.api.operators.boundary.sparse.identity(bem_c,bem_c,bem_dc)"
   ]
  },
  {
   "cell_type": "code",
   "execution_count": null,
   "metadata": {},
   "outputs": [],
   "source": [
    "idmat = id_op.weak_form().A\n",
    "\n",
    "print (type(idmat))\n",
    "print (type(trace_matrix))\n",
    "idmat.shape\n",
    "print(X.Range(0), X.Range(1))"
   ]
  },
  {
   "cell_type": "code",
   "execution_count": null,
   "metadata": {},
   "outputs": [],
   "source": [
    "# print(-trace_matrix.T * id_op.weak_form().A)"
   ]
  },
  {
   "cell_type": "code",
   "execution_count": null,
   "metadata": {},
   "outputs": [],
   "source": [
    "print (sl.domain.global_dof_count)\n",
    "print (sl.range.global_dof_count)"
   ]
  },
  {
   "cell_type": "code",
   "execution_count": null,
   "metadata": {},
   "outputs": [],
   "source": [
    "op = sl.weak_form()\n",
    "h,w = op.shape\n",
    "print (\"h=\",h,\"w=\",w)"
   ]
  },
  {
   "cell_type": "code",
   "execution_count": null,
   "metadata": {},
   "outputs": [],
   "source": [
    "vx = BaseVector(w)\n",
    "vy = BaseVector(h)\n",
    "vx[:] = 1\n",
    "vy.FV().NumPy()[:] = op * vx"
   ]
  },
  {
   "cell_type": "code",
   "execution_count": null,
   "metadata": {},
   "outputs": [],
   "source": [
    "print (vy)"
   ]
  },
  {
   "cell_type": "code",
   "execution_count": null,
   "metadata": {},
   "outputs": [],
   "source": [
    "class NGSOperator(BaseMatrix):\n",
    "    def __init__(self, mat):\n",
    "        BaseMatrix.__init__(self)\n",
    "        self.mat = mat\n",
    "    def IsComplex(self):\n",
    "        return False\n",
    "    def Height(self):\n",
    "        return self.mat.shape[0]\n",
    "    def Width(self):\n",
    "        return self.mat.shape[1]\n",
    "    def CreateRowVector(self):\n",
    "        return BaseVector(self.Width())\n",
    "    def CreateColVector(self):\n",
    "        return BaseVector(self.Height())\n",
    "    def Mult(self,x,y):\n",
    "        y.FV().NumPy()[:] = self.mat * x    "
   ]
  },
  {
   "cell_type": "code",
   "execution_count": null,
   "metadata": {},
   "outputs": [],
   "source": [
    "ngsop = NGSOperator(op)\n",
    "x = ngsop.CreateRowVector()\n",
    "y = ngsop.CreateColVector()\n",
    "x[:] = 1\n",
    "y.data = ngsop * x\n",
    "print(y)"
   ]
  },
  {
   "cell_type": "markdown",
   "metadata": {},
   "source": [
    "The product space can provide embedding matrices for the individual components:\n",
    "\n",
    "$$\n",
    "E_u = \\left( \\begin{array}{c} I \\\\ 0 \\end{array} \\right)\n",
    "\\qquad\n",
    "E_\\lambda = \\left( \\begin{array}{c} 0 \\\\ I \\end{array} \\right)\n",
    "$$\n"
   ]
  },
  {
   "cell_type": "code",
   "execution_count": null,
   "metadata": {},
   "outputs": [],
   "source": [
    "embu, emblam = X.embeddings"
   ]
  },
  {
   "cell_type": "code",
   "execution_count": null,
   "metadata": {},
   "outputs": [],
   "source": [
    "ngs_dl = NGSOperator(dl.weak_form())\n",
    "ngs_dl = emblam @ ngs_dl @ emblam.T   # 1,1 block"
   ]
  },
  {
   "cell_type": "code",
   "execution_count": null,
   "metadata": {},
   "outputs": [],
   "source": [
    "len(ngs_dl.CreateRowVector())"
   ]
  },
  {
   "cell_type": "code",
   "execution_count": null,
   "metadata": {},
   "outputs": [],
   "source": []
  }
 ],
 "metadata": {
  "kernelspec": {
   "display_name": "Python 3",
   "language": "python",
   "name": "python3"
  },
  "language_info": {
   "codemirror_mode": {
    "name": "ipython",
    "version": 3
   },
   "file_extension": ".py",
   "mimetype": "text/x-python",
   "name": "python",
   "nbconvert_exporter": "python",
   "pygments_lexer": "ipython3",
   "version": "3.8.5"
  }
 },
 "nbformat": 4,
 "nbformat_minor": 2
}
