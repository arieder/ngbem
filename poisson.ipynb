{
 "cells": [
  {
   "cell_type": "markdown",
   "metadata": {},
   "source": [
    "# FEM-BEM coupling "
   ]
  },
  {
   "cell_type": "code",
   "execution_count": 1,
   "metadata": {},
   "outputs": [],
   "source": [
    "from netgen.csg import *\n",
    "from ngsolve import *\n",
    "from ngsolve.webgui import Draw"
   ]
  },
  {
   "cell_type": "code",
   "execution_count": 2,
   "metadata": {},
   "outputs": [
    {
     "data": {
      "application/vnd.jupyter.widget-view+json": {
       "model_id": "7b79fc8300cb44c4b212377efa822bb5",
       "version_major": 2,
       "version_minor": 0
      },
      "text/plain": [
       "NGSWebGuiWidget(value={'ngsolve_version': '6.2.2007-270-gcfd30775a', 'mesh_dim': 3, 'order2d': 1, 'order3d': 1…"
      ]
     },
     "metadata": {},
     "output_type": "display_data"
    },
    {
     "data": {
      "text/plain": []
     },
     "execution_count": 2,
     "metadata": {},
     "output_type": "execute_result"
    }
   ],
   "source": [
    "ball = Sphere(Pnt(0,0,0), 1)\n",
    "geo = CSGeometry()\n",
    "geo.Add(ball)\n",
    "mesh = Mesh(geo.GenerateMesh(maxh=0.2))\n",
    "\n",
    "Draw (mesh)"
   ]
  },
  {
   "cell_type": "code",
   "execution_count": 3,
   "metadata": {},
   "outputs": [],
   "source": [
    "order=1\n",
    "V = H1(mesh,order=order)\n",
    "Q = SurfaceL2(mesh, order=order-1)\n",
    "X = V*Q\n",
    "(u,lam), (v,mu) = X.TnT()"
   ]
  },
  {
   "cell_type": "code",
   "execution_count": 4,
   "metadata": {},
   "outputs": [],
   "source": [
    "f = LinearForm(X)\n",
    "f += v(0.7,0,0)  # point source\n",
    "f.Assemble()\n",
    "\n",
    "a = BilinearForm(grad(u)*grad(v)*dx - lam*v*ds).Assemble()\n",
    "b = BilinearForm(grad(u)*grad(v)*dx+u*v*dx + lam*mu*ds).Assemble()\n",
    "inv = b.mat.Inverse()\n",
    "\n",
    "gf = GridFunction(X)\n",
    "gf.vec.data = inv * f.vec\n",
    "gfu, gflam = gf.components"
   ]
  },
  {
   "cell_type": "code",
   "execution_count": 5,
   "metadata": {
    "scrolled": false
   },
   "outputs": [
    {
     "data": {
      "application/vnd.jupyter.widget-view+json": {
       "model_id": "0c2fd81aa9bd44d58066425b8595935e",
       "version_major": 2,
       "version_minor": 0
      },
      "text/plain": [
       "NGSWebGuiWidget(value={'ngsolve_version': '6.2.2007-270-gcfd30775a', 'mesh_dim': 3, 'order2d': 2, 'order3d': 2…"
      ]
     },
     "metadata": {},
     "output_type": "display_data"
    },
    {
     "data": {
      "text/plain": []
     },
     "execution_count": 5,
     "metadata": {},
     "output_type": "execute_result"
    }
   ],
   "source": [
    "Draw (gfu)"
   ]
  },
  {
   "cell_type": "markdown",
   "metadata": {},
   "source": [
    "Next, we assemble the corresponding boundary integral operators using Bempp-cl and ngbem"
   ]
  },
  {
   "cell_type": "code",
   "execution_count": 6,
   "metadata": {},
   "outputs": [],
   "source": [
    "import ngbem\n",
    "import bempp.api;\n",
    "import numpy as np;\n",
    "import scipy;\n",
    "import bempp.core\n",
    "\n",
    "# bempp.api.DEFAULT_DEVICE_INTERFACE=\"opencl\"\n",
    "bempp.api.DEFAULT_DEVICE_INTERFACE=\"numba\""
   ]
  },
  {
   "cell_type": "code",
   "execution_count": 7,
   "metadata": {},
   "outputs": [],
   "source": [
    "class NGSOperator(BaseMatrix):\n",
    "    def __init__(self, mat):\n",
    "        BaseMatrix.__init__(self)\n",
    "        self.mat = mat\n",
    "    def IsComplex(self):\n",
    "        return False\n",
    "    def Height(self):\n",
    "        return self.mat.shape[0]\n",
    "    def Width(self):\n",
    "        return self.mat.shape[1]\n",
    "    def CreateRowVector(self):\n",
    "        return BaseVector(self.Width())\n",
    "    def CreateColVector(self):\n",
    "        return BaseVector(self.Height())\n",
    "    def Mult(self,x,y):\n",
    "        y.FV().NumPy()[:] = self.mat * x    "
   ]
  },
  {
   "cell_type": "markdown",
   "metadata": {},
   "source": [
    "NGBem implements the trace operator between (in our case) $H^1(\\Omega)$ and $H^{1/2}(\\partial \\Omega)$. It\n",
    "also provides the mapping between the NGSolve SurfaceL2 and the Bempp-cl space of piecewise constant functions.\n",
    "In order to make sure that the grids and spaces match, H1_trace also returns a corresponding Bempp-cl function space. (The second parameter makes sure that we only generate the Bempp grid once).\n",
    "\n",
    "Note that, since we are using piecewise constant functions for $Q$, bnd_trace_matrix will be the identity"
   ]
  },
  {
   "cell_type": "code",
   "execution_count": 8,
   "metadata": {},
   "outputs": [
    {
     "name": "stdout",
     "output_type": "stream",
     "text": [
      "got  332  surface vertices\n",
      "doing order  1\n",
      "error due to eval 0.0\n",
      "doing order  0\n",
      "error due to eval 0.0\n"
     ]
    }
   ],
   "source": [
    "[bem_c,trace_matrix]=ngbem.ng_to_bempp_trace(V);\n",
    "[bem_dc, bnd_trace_matrix]=ngbem.ng_to_bempp_trace(Q,bem_c.grid);"
   ]
  },
  {
   "cell_type": "markdown",
   "metadata": {},
   "source": [
    "We will need the following operators:\n",
    "the single layer operator $V$,\n",
    "the double layer operator $K$ and a mass matrix $M$"
   ]
  },
  {
   "cell_type": "code",
   "execution_count": 9,
   "metadata": {},
   "outputs": [],
   "source": [
    "##set up the bem\n",
    "bempp.api.VECTORIZATION_MODE = \"novec\" \n",
    "sl=bempp.api.operators.boundary.laplace.single_layer(bem_dc,bem_c,bem_dc) # ,assembler=\"fmm\", device_interface=\"opencl\")\n",
    "dl=bempp.api.operators.boundary.laplace.double_layer(bem_c,bem_c,bem_dc)#,assembler=\"fmm\", device_interface=\"opencl\")\n",
    "id_op=bempp.api.operators.boundary.sparse.identity(bem_dc,bem_dc,bem_c)\n",
    "id_op2=bempp.api.operators.boundary.sparse.identity(bem_c,bem_c,bem_dc)"
   ]
  },
  {
   "cell_type": "code",
   "execution_count": 10,
   "metadata": {},
   "outputs": [],
   "source": [
    "embu, emblam = X.embeddings"
   ]
  },
  {
   "cell_type": "code",
   "execution_count": 11,
   "metadata": {},
   "outputs": [],
   "source": [
    "bnd_op1=0.5*id_op2 - dl\n",
    "ngs_bnd1= NGSOperator(bnd_trace_matrix.T) @ NGSOperator(bnd_op1.weak_form()) @ NGSOperator(trace_matrix)\n",
    "ngs_bnd1= emblam @ ngs_bnd1 @ embu.T"
   ]
  },
  {
   "cell_type": "markdown",
   "metadata": {},
   "source": [
    "We set up the following block system:\n",
    "$\\begin{pmatrix}\n",
    "A & M \\\\\n",
    "\\frac{1}{2} M - K & V\n",
    "\\end{pmatrix} \n",
    "\\begin{pmatrix}\n",
    "u \\\\ \\lambda\n",
    "\\end{pmatrix}= \\begin{pmatrix} f \\\\ 0 \\end{pmatrix}$"
   ]
  },
  {
   "cell_type": "code",
   "execution_count": null,
   "metadata": {},
   "outputs": [],
   "source": []
  },
  {
   "cell_type": "code",
   "execution_count": 12,
   "metadata": {},
   "outputs": [],
   "source": [
    "ngs_sl =  NGSOperator(bnd_trace_matrix.T)  @ NGSOperator(sl.weak_form()) @  NGSOperator(bnd_trace_matrix) \n",
    "ngs_sl = emblam @ ngs_sl @ emblam.T   # 1,1 block"
   ]
  },
  {
   "cell_type": "code",
   "execution_count": 13,
   "metadata": {},
   "outputs": [
    {
     "name": "stdout",
     "output_type": "stream",
     "text": [
      "1239\n"
     ]
    }
   ],
   "source": [
    "gfu=GridFunction(X)\n",
    "print(a.mat.width)"
   ]
  },
  {
   "cell_type": "code",
   "execution_count": 14,
   "metadata": {},
   "outputs": [
    {
     "name": "stdout",
     "output_type": "stream",
     "text": [
      "1239 1239 1239\n"
     ]
    }
   ],
   "source": [
    "lhs=a.mat  + ngs_sl+ ngs_bnd1\n",
    "print(lhs.height,f.vec.size,gfu.vec.size)"
   ]
  },
  {
   "cell_type": "code",
   "execution_count": 15,
   "metadata": {},
   "outputs": [
    {
     "data": {
      "text/plain": [
       "1239"
      ]
     },
     "execution_count": 15,
     "metadata": {},
     "output_type": "execute_result"
    }
   ],
   "source": [
    "ngs_sl.width"
   ]
  },
  {
   "cell_type": "code",
   "execution_count": 16,
   "metadata": {},
   "outputs": [
    {
     "name": "stdout",
     "output_type": "stream",
     "text": [
      "Step 0, error =  8.618843847028359\n",
      "Step 1 , error =  6.362159671514446\n",
      "Step 2 , error =  1.2563188130094172\n",
      "Step 3 , error =  1.1687771781664749\n",
      "Step 4 , error =  0.3588774468958156\n",
      "Step 5 , error =  0.33256888551373665\n",
      "Step 6 , error =  0.1269071573561528\n",
      "Step 7 , error =  0.10931064262003447\n",
      "Step 8 , error =  0.051663089828412175\n",
      "Step 9 , error =  0.042158296468342564\n",
      "Step 10 , error =  0.024047731712517596\n",
      "Step 11 , error =  0.021756614706139914\n",
      "Step 12 , error =  0.01807370628456508\n",
      "Step 13 , error =  0.013971885834106485\n",
      "Step 14 , error =  0.01035582089397973\n",
      "Step 15 , error =  0.007225566896702744\n",
      "Step 16 , error =  0.005929541952040738\n",
      "Step 17 , error =  0.004743081301146306\n",
      "Step 18 , error =  0.0045061725441421134\n",
      "Step 19 , error =  0.0032279438207703944\n",
      "Step 20 , error =  0.0030286474283721153\n",
      "Step 21 , error =  0.002111968528997098\n",
      "Step 22 , error =  0.0019339938694159966\n",
      "Step 23 , error =  0.001759395162544261\n",
      "Step 24 , error =  0.0016741313135443955\n",
      "Step 25 , error =  0.0012300281679090022\n",
      "Step 26 , error =  0.0011659366979309826\n",
      "Step 27 , error =  0.0008295316680958124\n",
      "Step 28 , error =  0.0007831783684213958\n",
      "Step 29 , error =  0.0005944370764791838\n",
      "Step 30 , error =  0.0005513476433817432\n",
      "Step 31 , error =  0.0004190207733216139\n",
      "Step 32 , error =  0.000347047847425673\n",
      "Step 33 , error =  0.00028228916077146176\n",
      "Step 34 , error =  0.00020276992878302133\n",
      "Step 35 , error =  0.00018154666849975104\n",
      "Step 36 , error =  0.0001310494016884915\n",
      "Step 37 , error =  0.0001154464268445512\n",
      "Step 38 , error =  9.500046756944518e-05\n",
      "Step 39 , error =  8.9741349007997e-05\n",
      "Step 40 , error =  6.95310941190565e-05\n",
      "Step 41 , error =  6.576450966322256e-05\n",
      "Step 42 , error =  4.8121781119892254e-05\n",
      "Step 43 , error =  4.4965066932419284e-05\n",
      "Step 44 , error =  3.234430378684757e-05\n",
      "Step 45 , error =  3.0352323223926072e-05\n",
      "Step 46 , error =  1.834917255574665e-05\n",
      "Step 47 , error =  1.6183500199292082e-05\n",
      "Step 48 , error =  1.3165290102078826e-05\n",
      "Step 49 , error =  1.0849620612895243e-05\n",
      "Step 50 , error =  8.971616835711636e-06\n",
      "Step 51 , error =  7.88865304994744e-06\n",
      "Step 52 , error =  6.6618175828578105e-06\n",
      "Step 53 , error =  5.29670664653485e-06\n",
      "Step 54 , error =  4.761236158368582e-06\n",
      "Step 55 , error =  3.998495649756744e-06\n",
      "Step 56 , error =  3.839371008981943e-06\n",
      "Step 57 , error =  2.347879354759814e-06\n",
      "Step 58 , error =  2.162773121398673e-06\n",
      "Step 59 , error =  1.4365028253205494e-06\n",
      "Step 60 , error =  1.3489475680653019e-06\n",
      "Step 61 , error =  9.32205275672741e-07\n"
     ]
    },
    {
     "data": {
      "text/plain": [
       "basevector"
      ]
     },
     "execution_count": 16,
     "metadata": {},
     "output_type": "execute_result"
    }
   ],
   "source": [
    "solvers.GMRes(A=lhs, b=f.vec, pre=inv, tol=1e-6, printrates=True, x=gf.vec,freedofs=X.FreeDofs(),maxsteps=400)"
   ]
  },
  {
   "cell_type": "code",
   "execution_count": 17,
   "metadata": {},
   "outputs": [
    {
     "data": {
      "application/vnd.jupyter.widget-view+json": {
       "model_id": "0f55bae42f1641f191435cd42a5e8cf5",
       "version_major": 2,
       "version_minor": 0
      },
      "text/plain": [
       "NGSWebGuiWidget(value={'ngsolve_version': '6.2.2007-270-gcfd30775a', 'mesh_dim': 3, 'order2d': 2, 'order3d': 2…"
      ]
     },
     "metadata": {},
     "output_type": "display_data"
    },
    {
     "data": {
      "text/plain": []
     },
     "execution_count": 17,
     "metadata": {},
     "output_type": "execute_result"
    }
   ],
   "source": [
    "gfu, gflam= gf.components\n",
    "Draw(gfu)"
   ]
  },
  {
   "cell_type": "code",
   "execution_count": 18,
   "metadata": {},
   "outputs": [
    {
     "ename": "NameError",
     "evalue": "name 'w' is not defined",
     "output_type": "error",
     "traceback": [
      "\u001b[0;31m---------------------------------------------------------------------------\u001b[0m",
      "\u001b[0;31mNameError\u001b[0m                                 Traceback (most recent call last)",
      "\u001b[0;32m<ipython-input-18-7dc74de425fc>\u001b[0m in \u001b[0;36m<module>\u001b[0;34m\u001b[0m\n\u001b[0;32m----> 1\u001b[0;31m \u001b[0mvx\u001b[0m \u001b[0;34m=\u001b[0m \u001b[0mBaseVector\u001b[0m\u001b[0;34m(\u001b[0m\u001b[0mw\u001b[0m\u001b[0;34m)\u001b[0m\u001b[0;34m\u001b[0m\u001b[0;34m\u001b[0m\u001b[0m\n\u001b[0m\u001b[1;32m      2\u001b[0m \u001b[0mvy\u001b[0m \u001b[0;34m=\u001b[0m \u001b[0mBaseVector\u001b[0m\u001b[0;34m(\u001b[0m\u001b[0mh\u001b[0m\u001b[0;34m)\u001b[0m\u001b[0;34m\u001b[0m\u001b[0;34m\u001b[0m\u001b[0m\n\u001b[1;32m      3\u001b[0m \u001b[0mvx\u001b[0m\u001b[0;34m[\u001b[0m\u001b[0;34m:\u001b[0m\u001b[0;34m]\u001b[0m \u001b[0;34m=\u001b[0m \u001b[0;36m1\u001b[0m\u001b[0;34m\u001b[0m\u001b[0;34m\u001b[0m\u001b[0m\n\u001b[1;32m      4\u001b[0m \u001b[0mvy\u001b[0m\u001b[0;34m.\u001b[0m\u001b[0mFV\u001b[0m\u001b[0;34m(\u001b[0m\u001b[0;34m)\u001b[0m\u001b[0;34m.\u001b[0m\u001b[0mNumPy\u001b[0m\u001b[0;34m(\u001b[0m\u001b[0;34m)\u001b[0m\u001b[0;34m[\u001b[0m\u001b[0;34m:\u001b[0m\u001b[0;34m]\u001b[0m \u001b[0;34m=\u001b[0m \u001b[0mop\u001b[0m \u001b[0;34m*\u001b[0m \u001b[0mvx\u001b[0m\u001b[0;34m\u001b[0m\u001b[0;34m\u001b[0m\u001b[0m\n",
      "\u001b[0;31mNameError\u001b[0m: name 'w' is not defined"
     ]
    }
   ],
   "source": [
    "vx = BaseVector(w)\n",
    "vy = BaseVector(h)\n",
    "vx[:] = 1\n",
    "vy.FV().NumPy()[:] = op * vx"
   ]
  },
  {
   "cell_type": "code",
   "execution_count": null,
   "metadata": {},
   "outputs": [],
   "source": [
    "print (vy)"
   ]
  },
  {
   "cell_type": "code",
   "execution_count": null,
   "metadata": {},
   "outputs": [],
   "source": []
  },
  {
   "cell_type": "code",
   "execution_count": null,
   "metadata": {},
   "outputs": [],
   "source": [
    "ngsop = NGSOperator(op)\n",
    "x = ngsop.CreateRowVector()\n",
    "y = ngsop.CreateColVector()\n",
    "x[:] = 1\n",
    "y.data = ngsop * x\n",
    "print(y)"
   ]
  },
  {
   "cell_type": "markdown",
   "metadata": {},
   "source": [
    "The product space can provide embedding matrices for the individual components:\n",
    "\n",
    "$$\n",
    "E_u = \\left( \\begin{array}{c} I \\\\ 0 \\end{array} \\right)\n",
    "\\qquad\n",
    "E_\\lambda = \\left( \\begin{array}{c} 0 \\\\ I \\end{array} \\right)\n",
    "$$\n"
   ]
  },
  {
   "cell_type": "code",
   "execution_count": null,
   "metadata": {},
   "outputs": [],
   "source": [
    "embu, emblam = X.embeddings"
   ]
  },
  {
   "cell_type": "code",
   "execution_count": null,
   "metadata": {},
   "outputs": [],
   "source": [
    "ngs_dl = NGSOperator(dl.weak_form())\n",
    "ngs_dl = emblam @ ngs_dl @ emblam.T   # 1,1 block"
   ]
  },
  {
   "cell_type": "code",
   "execution_count": null,
   "metadata": {},
   "outputs": [],
   "source": [
    "len(ngs_dl.CreateRowVector())"
   ]
  },
  {
   "cell_type": "code",
   "execution_count": null,
   "metadata": {},
   "outputs": [],
   "source": []
  },
  {
   "cell_type": "code",
   "execution_count": null,
   "metadata": {},
   "outputs": [],
   "source": []
  },
  {
   "cell_type": "code",
   "execution_count": null,
   "metadata": {},
   "outputs": [],
   "source": []
  }
 ],
 "metadata": {
  "kernelspec": {
   "display_name": "Python 3",
   "language": "python",
   "name": "python3"
  },
  "language_info": {
   "codemirror_mode": {
    "name": "ipython",
    "version": 3
   },
   "file_extension": ".py",
   "mimetype": "text/x-python",
   "name": "python",
   "nbconvert_exporter": "python",
   "pygments_lexer": "ipython3",
   "version": "3.8.5"
  }
 },
 "nbformat": 4,
 "nbformat_minor": 2
}
